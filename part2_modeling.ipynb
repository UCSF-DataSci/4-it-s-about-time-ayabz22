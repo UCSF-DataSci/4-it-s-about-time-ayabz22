{
 "cells": [
  {
   "cell_type": "markdown",
   "metadata": {},
   "source": [
    "# Part 2: Time Series Modeling\n",
    "\n",
    "In this notebook, you will implement functions to extract features from time series data and build ARIMA models."
   ]
  },
  {
   "cell_type": "code",
   "execution_count": 2,
   "metadata": {},
   "outputs": [],
   "source": [
    "# Import required libraries\n",
    "import numpy as np\n",
    "import pandas as pd\n",
    "import matplotlib.pyplot as plt\n",
    "import seaborn as sns\n",
    "from statsmodels.tsa.arima.model import ARIMA\n",
    "from pathlib import Path\n",
    "import os\n",
    "\n",
    "# Set style for plots\n",
    "sns.set_theme(style='darkgrid')  \n",
    "%matplotlib inline"
   ]
  },
  {
   "cell_type": "markdown",
   "metadata": {},
   "source": [
    "## 1. Feature Extraction\n",
    "\n",
    "Implement the `extract_time_series_features` function to calculate rolling window features."
   ]
  },
  {
   "cell_type": "code",
   "execution_count": null,
   "metadata": {},
   "outputs": [],
   "source": [
    "def build_arima_model(series, order=(1, 1, 1), output_dir='plots', label='arima'):\n",
    "    \"\"\"Fit an ARIMA model to the time series and generate diagnostic plots.\"\"\"\n",
    "    os.makedirs(output_dir, exist_ok=True)\n",
    "\n",
    "    # Fit the model\n",
    "    model = ARIMA(series, order=order)\n",
    "    model_fit = model.fit()\n",
    "\n",
    "    # plot 1\n",
    "    plt.figure(figsize=(12, 4))\n",
    "    plt.plot(series, label='Original', color='blue')\n",
    "    plt.plot(model_fit.fittedvalues, label='Fitted', color='orange')\n",
    "    plt.title('ARIMA Model Fit')\n",
    "    plt.legend()\n",
    "    fit_path = os.path.join(output_dir, f'{label}_arima_fit.png')\n",
    "    plt.savefig(fit_path)\n",
    "    plt.close()\n",
    "\n",
    "    # plot 2\n",
    "    residuals = model_fit.resid\n",
    "    plt.figure(figsize=(12, 4))\n",
    "    plt.plot(residuals, color='purple')\n",
    "    plt.title('ARIMA Model Residuals')\n",
    "    plt.axhline(0, color='black', linestyle='--')\n",
    "    res_path = os.path.join(output_dir, f'{label}_arima_residuals.png')\n",
    "    plt.savefig(res_path)\n",
    "    plt.close()\n",
    "\n",
    "    print(f\"Saved plots to:\\n- {fit_path}\\n- {res_path}\")\n",
    "    return model_fit"
   ]
  },
  {
   "cell_type": "markdown",
   "metadata": {},
   "source": [
    "## 2. ARIMA Modeling\n",
    "\n",
    "Implement the `build_arima_model` function to fit ARIMA models and generate diagnostic plots."
   ]
  },
  {
   "cell_type": "code",
   "execution_count": null,
   "metadata": {},
   "outputs": [],
   "source": [
    "def extract_time_series_features(data, window_size=60):\n",
    "    \"\"\"Extract rolling window features from time series data.\"\"\"\n",
    "    data = data.sort_values('timestamp').set_index('timestamp')\n",
    "    features = pd.DataFrame(index=data.index)\n",
    "    \n",
    "    for signal in ['heart_rate', 'eda', 'temperature']:\n",
    "        signal_series = data[signal]\n",
    "\n",
    "        # Rolling stats\n",
    "        rolling = signal_series.rolling(f'{window_size}s')\n",
    "\n",
    "        features[f'{signal}_mean'] = rolling.mean()\n",
    "        features[f'{signal}_std'] = rolling.std()\n",
    "        features[f'{signal}_min'] = rolling.min()\n",
    "        features[f'{signal}_max'] = rolling.max()\n",
    "\n",
    "        # Rolling autocorrelation (lag 1)\n",
    "        def rolling_autocorr(x):\n",
    "            if len(x) < 2:\n",
    "                return np.nan\n",
    "            return x.autocorr(lag=1)\n",
    "\n",
    "        features[f'{signal}_autocorr'] = signal_series.rolling(window=window_size).apply(rolling_autocorr, raw=False)\n",
    "\n",
    "   \n",
    "    features = features.reset_index()\n",
    "    return features\n"
   ]
  },
  {
   "cell_type": "code",
   "execution_count": null,
   "metadata": {},
   "outputs": [
    {
     "name": "stderr",
     "output_type": "stream",
     "text": [
      "/home/codespace/.local/lib/python3.12/site-packages/statsmodels/tsa/base/tsa_model.py:473: ValueWarning: No frequency information was provided, so inferred frequency s will be used.\n",
      "  self._init_dates(dates, freq)\n",
      "/home/codespace/.local/lib/python3.12/site-packages/statsmodels/tsa/base/tsa_model.py:473: ValueWarning: No frequency information was provided, so inferred frequency s will be used.\n",
      "  self._init_dates(dates, freq)\n",
      "/home/codespace/.local/lib/python3.12/site-packages/statsmodels/tsa/base/tsa_model.py:473: ValueWarning: No frequency information was provided, so inferred frequency s will be used.\n",
      "  self._init_dates(dates, freq)\n"
     ]
    },
    {
     "name": "stdout",
     "output_type": "stream",
     "text": [
      "Saved plots to:\n",
      "- plots/S1_Midterm 1_heart_rate_arima_fit.png\n",
      "- plots/S1_Midterm 1_heart_rate_arima_residuals.png\n",
      "Model and features extracted successfully.\n"
     ]
    }
   ],
   "source": [
    "# Step 1: Load the preprocessed data\n",
    "processed_data = pd.read_csv('data/processed/preprocessed_data.csv')\n",
    "processed_data['timestamp'] = pd.to_datetime(processed_data['timestamp'])\n",
    "\n",
    "# Step 2: Extract rolling features for a specific subject and session\n",
    "subject_id = 'S1'\n",
    "session = 'Midterm 1'\n",
    "window_size = 60  \n",
    "\n",
    "subject_data = processed_data[(processed_data['subject_id'] == subject_id) & \n",
    "                              (processed_data['session'] == session)]\n",
    "\n",
    "features = extract_time_series_features(subject_data, window_size)\n",
    "\n",
    "# Step 3: Fit ARIMA model to the heart rate time series\n",
    "series = subject_data['heart_rate'].dropna()\n",
    "series.index = subject_data['timestamp']\n",
    "\n",
    "# Use the ARIMA model to analyze the heart rate time series\n",
    "model_fit = build_arima_model(series, order=(1, 1, 1), output_dir='plots', label=f'{subject_id}_{session}_heart_rate')\n",
    "\n",
    "print(\"Model and features extracted successfully.\")\n"
   ]
  }
 ],
 "metadata": {
  "kernelspec": {
   "display_name": "Python 3",
   "language": "python",
   "name": "python3"
  },
  "language_info": {
   "codemirror_mode": {
    "name": "ipython",
    "version": 3
   },
   "file_extension": ".py",
   "mimetype": "text/x-python",
   "name": "python",
   "nbconvert_exporter": "python",
   "pygments_lexer": "ipython3",
   "version": "3.12.1"
  }
 },
 "nbformat": 4,
 "nbformat_minor": 4
}
