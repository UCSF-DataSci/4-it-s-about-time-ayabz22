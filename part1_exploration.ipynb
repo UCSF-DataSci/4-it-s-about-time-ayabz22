{
 "cells": [
  {
   "cell_type": "markdown",
   "metadata": {},
   "source": [
    "# Part 1: Data Exploration and Preprocessing\n",
    "\n",
    "In this notebook, you will implement functions to load, preprocess, and visualize physiological data from the Wearable Exam Stress Dataset."
   ]
  },
  {
   "cell_type": "code",
   "execution_count": 5,
   "metadata": {},
   "outputs": [],
   "source": [
    "# Import required libraries\n",
    "import numpy as np\n",
    "import pandas as pd\n",
    "import matplotlib.pyplot as plt\n",
    "import seaborn as sns\n",
    "from scipy import stats\n",
    "from pathlib import Path\n",
    "import os\n",
    "\n",
    "# Set style for plots\n",
    "sns.set_theme(style='darkgrid')  \n",
    "%matplotlib inline\n"
   ]
  },
  {
   "cell_type": "markdown",
   "metadata": {},
   "source": [
    "## 1. Data Loading\n",
    "\n",
    "Implement the `load_data` function to read and organize the physiological data from the dataset."
   ]
  },
  {
   "cell_type": "code",
   "execution_count": 27,
   "metadata": {},
   "outputs": [],
   "source": [
    "def load_data(data_dir='a-wearable-exam-stress-dataset-for-predicting-cognitive-performance-in-real-world-settings-1.0.0/Data'):\n",
    "    all_data = []\n",
    "\n",
    "    for subject_id in os.listdir(data_dir):\n",
    "        subject_path = os.path.join(data_dir, subject_id)\n",
    "        if not os.path.isdir(subject_path) or not subject_id.startswith('S'):\n",
    "            continue  \n",
    "\n",
    "        for session_name in os.listdir(subject_path):\n",
    "            session_path = os.path.join(subject_path, session_name)\n",
    "            if not os.path.isdir(session_path):\n",
    "                continue  # if its not a folder skip \n",
    "\n",
    "            session_data = {}\n",
    "\n",
    "            for signal_file, freq, colname in [\n",
    "                ('HR.csv', '1s', 'heart_rate'),\n",
    "                ('EDA.csv', '250ms', 'eda'),\n",
    "                ('TEMP.csv', '250ms', 'temperature')\n",
    "            ]:\n",
    "                file_path = os.path.join(session_path, signal_file)\n",
    "                if os.path.exists(file_path):\n",
    "                    df = pd.read_csv(file_path, header=None)\n",
    "                    df.columns = [colname]\n",
    "                    df['timestamp'] = pd.date_range(start='2023-01-01', periods=len(df), freq=freq)\n",
    "                    df = df.set_index('timestamp').resample('1s').mean()\n",
    "                    session_data[colname] = df\n",
    "\n",
    "            if len(session_data) == 3:\n",
    "                merged = pd.concat(session_data.values(), axis=1)\n",
    "                merged = merged.reset_index()  \n",
    "                merged['subject_id'] = subject_id\n",
    "                merged['session'] = session_name\n",
    "                all_data.append(merged)\n",
    "\n",
    "    full_data = pd.concat(all_data, ignore_index=True)\n",
    "    return full_data\n",
    "    pass"
   ]
  },
  {
   "cell_type": "code",
   "execution_count": 28,
   "metadata": {},
   "outputs": [
    {
     "name": "stdout",
     "output_type": "stream",
     "text": [
      "Index(['timestamp', 'heart_rate', 'eda', 'temperature', 'subject_id',\n",
      "       'session'],\n",
      "      dtype='object')\n"
     ]
    }
   ],
   "source": [
    "# Call the function and check the columns of the loaded data\n",
    "df = load_data()\n",
    "print(df.columns)"
   ]
  },
  {
   "cell_type": "markdown",
   "metadata": {},
   "source": [
    "## 2. Data Preprocessing\n",
    "\n",
    "Implement the `preprocess_data` function to clean and prepare the data for analysis."
   ]
  },
  {
   "cell_type": "code",
   "execution_count": null,
   "metadata": {},
   "outputs": [
    {
     "name": "stdout",
     "output_type": "stream",
     "text": [
      "Columns in raw data: Index(['timestamp', 'heart_rate', 'eda', 'temperature', 'subject_id',\n",
      "       'session'],\n",
      "      dtype='object')\n",
      "Preprocessed data saved to /workspaces/4-it-s-about-time-rishim3000/data/processed/preprocessed_data.csv\n"
     ]
    }
   ],
   "source": []
  },
  {
   "cell_type": "code",
   "execution_count": 36,
   "metadata": {},
   "outputs": [
    {
     "name": "stdout",
     "output_type": "stream",
     "text": [
      "Columns in raw data: Index(['timestamp', 'heart_rate', 'eda', 'temperature', 'subject_id',\n",
      "       'session'],\n",
      "      dtype='object')\n",
      "Preprocessed data saved to /workspaces/4-it-s-about-time-ayabz22/data/processed/preprocessed_data.csv\n"
     ]
    }
   ],
   "source": [
    "def preprocess_data(data, output_dir='/workspaces/4-it-s-about-time-ayabz22/data/processed'):\n",
    "    \"\"\"Clean and prepare the physiological data for analysis.\"\"\"\n",
    "    \n",
    "    # Ensure correct columns exist\n",
    "    required_cols = ['timestamp', 'heart_rate', 'eda', 'temperature']\n",
    "    missing_cols = [col for col in required_cols if col not in data.columns]\n",
    "    \n",
    "    if missing_cols:\n",
    "        print(f\"Warning: Missing columns: {missing_cols}\")\n",
    "        return None\n",
    "    \n",
    "    # Create output directory if it doesn't exist\n",
    "    os.makedirs(output_dir, exist_ok=True)\n",
    "\n",
    "    # Remove outliers using z-score (threshold = 3), excluding the 'timestamp' column\n",
    "    numeric_cols = ['heart_rate', 'eda', 'temperature']\n",
    "    z_scores = np.abs(stats.zscore(data[numeric_cols]))\n",
    "    data_clean = data[(z_scores < 3).all(axis=1)]\n",
    "\n",
    "    # Save the cleaned data to CSV\n",
    "    output_path = os.path.join(output_dir, 'preprocessed_data.csv')\n",
    "    data_clean.to_csv(output_path, index=False)\n",
    "    \n",
    "    print(f\"Preprocessed data saved to {output_path}\")\n",
    "    \n",
    "    return data_clean\n",
    "\n",
    "# Load raw data\n",
    "raw_data = load_data()\n",
    "\n",
    "# Check for column issues before calling preprocess_data\n",
    "print(f\"Columns in raw data: {raw_data.columns}\")\n",
    "\n",
    "# Process the data\n",
    "processed_data = preprocess_data(raw_data)\n"
   ]
  },
  {
   "cell_type": "markdown",
   "metadata": {},
   "source": [
    "## 3. Visualization\n",
    "\n",
    "Implement the `plot_physiological_signals` function to create visualizations of the physiological data."
   ]
  },
  {
   "cell_type": "code",
   "execution_count": null,
   "metadata": {},
   "outputs": [],
   "source": [
    "def plot_physiological_signals(data, subject_id, session, output_dir='plots'):\n",
    "    \"\"\"Create plots of physiological signals for a given subject and session.\n",
    "    \n",
    "    Parameters\n",
    "    ----------\n",
    "    data : pd.DataFrame\n",
    "        Preprocessed physiological data\n",
    "    subject_id : str\n",
    "        Subject identifier (e.g., 'S1')\n",
    "    session : str\n",
    "        Session identifier (e.g., 'Midterm 1')\n",
    "    output_dir : str\n",
    "        Directory to save plot files\n",
    "        \n",
    "    Returns\n",
    "    -------\n",
    "    matplotlib.figure.Figure\n",
    "        Figure object containing the plots\n",
    "    \"\"\"\n",
    "    # Create output directory if it doesn't exist\n",
    "    os.makedirs(output_dir, exist_ok=True)\n",
    "    \n",
    "    # Your code here\n",
    "    # 1. Create figure with subplots\n",
    "    # 2. Plot each physiological signal\n",
    "    # 3. Add labels and titles\n",
    "    # 4. Save plot to file\n",
    "    \n",
    "    pass"
   ]
  }
 ],
 "metadata": {
  "kernelspec": {
   "display_name": "Python 3",
   "language": "python",
   "name": "python3"
  },
  "language_info": {
   "codemirror_mode": {
    "name": "ipython",
    "version": 3
   },
   "file_extension": ".py",
   "mimetype": "text/x-python",
   "name": "python",
   "nbconvert_exporter": "python",
   "pygments_lexer": "ipython3",
   "version": "3.12.1"
  }
 },
 "nbformat": 4,
 "nbformat_minor": 4
}
